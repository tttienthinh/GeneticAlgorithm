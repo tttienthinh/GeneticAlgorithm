{
 "cells": [
  {
   "cell_type": "code",
   "execution_count": 10,
   "metadata": {},
   "outputs": [],
   "source": [
    "import random\n",
    "import gym\n",
    "from gym import spaces\n",
    "import numpy as np\n",
    "import pandas as pd"
   ]
  },
  {
   "cell_type": "code",
   "execution_count": 2,
   "metadata": {},
   "outputs": [
    {
     "data": {
      "text/plain": [
       "Discrete(5)"
      ]
     },
     "execution_count": 2,
     "metadata": {},
     "output_type": "execute_result"
    }
   ],
   "source": [
    "action_space = spaces.Discrete(5)\n",
    "action_space"
   ]
  },
  {
   "cell_type": "code",
   "execution_count": 4,
   "metadata": {},
   "outputs": [
    {
     "data": {
      "text/plain": [
       "Box(0.0, 1.0, (57,), float16)"
      ]
     },
     "execution_count": 4,
     "metadata": {},
     "output_type": "execute_result"
    }
   ],
   "source": [
    "observation_space = spaces.Box(low=0, high=1, shape=(57, ), dtype=np.float16)\n",
    "observation_space"
   ]
  },
  {
   "cell_type": "code",
   "execution_count": 11,
   "metadata": {},
   "outputs": [],
   "source": [
    "data = pd.read_csv(\"1-Data creation/data_creation.csv\")"
   ]
  },
  {
   "cell_type": "code",
   "execution_count": 14,
   "metadata": {},
   "outputs": [
    {
     "data": {
      "text/plain": [
       "Index(['sma_20_50', 'sma_20_100', 'sma_50_100', 'ema_20_50', 'ema_20_100',\n",
       "       'ema_50_100', 'vwap_20_50', 'vwap_20_100', 'vwap_50_100',\n",
       "       'awesome_oscillator', 'ppo', 'ppo_hist', 'pvo', 'pvo_hist', 'rsi_close',\n",
       "       'rsi_high', 'rsi_low', 'srsi', 'srsi_d', 'srsi_k', 'stoch',\n",
       "       'stoch_signal', 'tsi', 'ultimate_o', 'will', 'cmf', 'em', 'sem', 'mfi',\n",
       "       'bbh', 'bbl', 'bbm', 'dch', 'dcl', 'dcm', 'kch', 'kcl', 'kcm', 'adx',\n",
       "       'adx_neg', 'adx_pos', 'aroon_d', 'aroon_u', 'aroon_i', 'cci', 'dpo',\n",
       "       'kst', 'kst_diff', 'kst_sig', 'macd', 'macd_d', 'macd_s', 'psar_d',\n",
       "       'psar_u', 'stc', 'trix', 'vortex'],\n",
       "      dtype='object')"
      ]
     },
     "execution_count": 14,
     "metadata": {},
     "output_type": "execute_result"
    }
   ],
   "source": [
    "data.columns"
   ]
  },
  {
   "cell_type": "code",
   "execution_count": 15,
   "metadata": {},
   "outputs": [],
   "source": [
    "INDICATORS = ['sma_20_50', 'sma_20_100', 'sma_50_100', 'ema_20_50', 'ema_20_100',\n",
    "       'ema_50_100', 'vwap_20_50', 'vwap_20_100', 'vwap_50_100',\n",
    "       'awesome_oscillator', 'ppo', 'ppo_hist', 'pvo', 'pvo_hist', 'rsi_close',\n",
    "       'rsi_high', 'rsi_low', 'srsi', 'srsi_d', 'srsi_k', 'stoch',\n",
    "       'stoch_signal', 'tsi', 'ultimate_o', 'will', 'cmf', 'em', 'sem', 'mfi',\n",
    "       'bbh', 'bbl', 'bbm', 'dch', 'dcl', 'dcm', 'kch', 'kcl', 'kcm', 'adx',\n",
    "       'adx_neg', 'adx_pos', 'aroon_d', 'aroon_u', 'aroon_i', 'cci', 'dpo',\n",
    "       'kst', 'kst_diff', 'kst_sig', 'macd', 'macd_d', 'macd_s', 'psar_d',\n",
    "       'psar_u', 'stc', 'trix', 'vortex']"
   ]
  },
  {
   "cell_type": "code",
   "execution_count": 30,
   "metadata": {
    "scrolled": true
   },
   "outputs": [
    {
     "data": {
      "text/plain": [
       "array([1.        , 0.        , 0.        , 1.        , 0.        ,\n",
       "       0.        , 0.        , 0.        , 0.        , 0.        ,\n",
       "       1.        , 1.        , 1.        , 1.        , 0.61961442,\n",
       "       0.71276149, 0.70374339, 0.670282  , 0.86485713, 0.74730728,\n",
       "       0.74318745, 0.79769975, 0.58160892, 0.56040168, 0.74318745,\n",
       "       0.52884165, 1.        , 1.        , 0.77476175, 0.        ,\n",
       "       0.        , 0.        , 0.        , 0.        , 0.        ,\n",
       "       1.        , 0.        , 0.        , 0.26074707, 0.10332677,\n",
       "       0.33497992, 0.52      , 0.92      , 0.7       , 1.        ,\n",
       "       0.        , 1.        , 1.        , 1.        , 1.        ,\n",
       "       1.        , 1.        , 0.        , 0.        , 0.99522152,\n",
       "       1.        , 1.        ])"
      ]
     },
     "execution_count": 30,
     "metadata": {},
     "output_type": "execute_result"
    }
   ],
   "source": [
    "data.loc[55, INDICATORS].values"
   ]
  },
  {
   "cell_type": "code",
   "execution_count": 32,
   "metadata": {},
   "outputs": [
    {
     "data": {
      "text/plain": [
       "1"
      ]
     },
     "execution_count": 32,
     "metadata": {},
     "output_type": "execute_result"
    }
   ],
   "source": [
    "data.loc[55, \"sma_20_50\"]"
   ]
  },
  {
   "cell_type": "code",
   "execution_count": 28,
   "metadata": {},
   "outputs": [
    {
     "data": {
      "text/html": [
       "<div>\n",
       "<style scoped>\n",
       "    .dataframe tbody tr th:only-of-type {\n",
       "        vertical-align: middle;\n",
       "    }\n",
       "\n",
       "    .dataframe tbody tr th {\n",
       "        vertical-align: top;\n",
       "    }\n",
       "\n",
       "    .dataframe thead th {\n",
       "        text-align: right;\n",
       "    }\n",
       "</style>\n",
       "<table border=\"1\" class=\"dataframe\">\n",
       "  <thead>\n",
       "    <tr style=\"text-align: right;\">\n",
       "      <th></th>\n",
       "      <th>stc</th>\n",
       "    </tr>\n",
       "  </thead>\n",
       "  <tbody>\n",
       "    <tr>\n",
       "      <th>0</th>\n",
       "      <td>0.000000</td>\n",
       "    </tr>\n",
       "    <tr>\n",
       "      <th>1</th>\n",
       "      <td>0.000000</td>\n",
       "    </tr>\n",
       "    <tr>\n",
       "      <th>2</th>\n",
       "      <td>0.000000</td>\n",
       "    </tr>\n",
       "    <tr>\n",
       "      <th>3</th>\n",
       "      <td>0.000000</td>\n",
       "    </tr>\n",
       "    <tr>\n",
       "      <th>4</th>\n",
       "      <td>0.000000</td>\n",
       "    </tr>\n",
       "    <tr>\n",
       "      <th>...</th>\n",
       "      <td>...</td>\n",
       "    </tr>\n",
       "    <tr>\n",
       "      <th>524643</th>\n",
       "      <td>0.000875</td>\n",
       "    </tr>\n",
       "    <tr>\n",
       "      <th>524644</th>\n",
       "      <td>0.000438</td>\n",
       "    </tr>\n",
       "    <tr>\n",
       "      <th>524645</th>\n",
       "      <td>0.000219</td>\n",
       "    </tr>\n",
       "    <tr>\n",
       "      <th>524646</th>\n",
       "      <td>0.000109</td>\n",
       "    </tr>\n",
       "    <tr>\n",
       "      <th>524647</th>\n",
       "      <td>0.000055</td>\n",
       "    </tr>\n",
       "  </tbody>\n",
       "</table>\n",
       "<p>524648 rows × 1 columns</p>\n",
       "</div>"
      ],
      "text/plain": [
       "             stc\n",
       "0       0.000000\n",
       "1       0.000000\n",
       "2       0.000000\n",
       "3       0.000000\n",
       "4       0.000000\n",
       "...          ...\n",
       "524643  0.000875\n",
       "524644  0.000438\n",
       "524645  0.000219\n",
       "524646  0.000109\n",
       "524647  0.000055\n",
       "\n",
       "[524648 rows x 1 columns]"
      ]
     },
     "execution_count": 28,
     "metadata": {},
     "output_type": "execute_result"
    }
   ],
   "source": [
    "data[[\"stc\"]]"
   ]
  },
  {
   "cell_type": "code",
   "execution_count": null,
   "metadata": {},
   "outputs": [],
   "source": []
  }
 ],
 "metadata": {
  "kernelspec": {
   "display_name": "ReinforcementLearning",
   "language": "python",
   "name": "reinforcementlearning"
  },
  "language_info": {
   "codemirror_mode": {
    "name": "ipython",
    "version": 3
   },
   "file_extension": ".py",
   "mimetype": "text/x-python",
   "name": "python",
   "nbconvert_exporter": "python",
   "pygments_lexer": "ipython3",
   "version": "3.8.10"
  }
 },
 "nbformat": 4,
 "nbformat_minor": 4
}
